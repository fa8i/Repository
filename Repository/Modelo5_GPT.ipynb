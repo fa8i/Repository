{
 "cells": [
  {
   "cell_type": "markdown",
   "metadata": {},
   "source": [
    "### MODELO 4: GPT"
   ]
  },
  {
   "cell_type": "markdown",
   "metadata": {},
   "source": [
    "##### Importacion de librerias"
   ]
  },
  {
   "cell_type": "code",
   "execution_count": 1,
   "metadata": {},
   "outputs": [],
   "source": [
    "import openai\n",
    "import os"
   ]
  },
  {
   "cell_type": "markdown",
   "metadata": {},
   "source": [
    "##### API_key"
   ]
  },
  {
   "cell_type": "code",
   "execution_count": 2,
   "metadata": {},
   "outputs": [],
   "source": [
    "openai_client = openai.OpenAI(api_key='YOUR API KEY')"
   ]
  },
  {
   "cell_type": "markdown",
   "metadata": {},
   "source": [
    "##### Extraccion de letra y eliminacion defrases repetidas"
   ]
  },
  {
   "cell_type": "code",
   "execution_count": 3,
   "metadata": {},
   "outputs": [],
   "source": [
    "def eliminar_lineas_repetidas(texto):\n",
    "    lineas = texto.split('\\n')\n",
    "    lineas_sin_repetir = []\n",
    "    lineas_vistas = {}\n",
    "\n",
    "    for linea in lineas:\n",
    "        if linea not in lineas_vistas:\n",
    "            lineas_sin_repetir.append(linea)\n",
    "            lineas_vistas[linea] = True\n",
    "\n",
    "    return '\\n'.join(lineas_sin_repetir)"
   ]
  },
  {
   "cell_type": "code",
   "execution_count": 4,
   "metadata": {},
   "outputs": [],
   "source": [
    "with open(r'C:\\Users\\...\\example.txt', 'r', encoding='utf-8') as lyrics_file:\n",
    "    lyrics_text = lyrics_file.read()"
   ]
  },
  {
   "cell_type": "code",
   "execution_count": 5,
   "metadata": {},
   "outputs": [],
   "source": [
    "cropped_lyrics = eliminar_lineas_repetidas(lyrics_text)"
   ]
  },
  {
   "cell_type": "markdown",
   "metadata": {},
   "source": [
    "##### Herramientas de la query"
   ]
  },
  {
   "cell_type": "code",
   "execution_count": 6,
   "metadata": {},
   "outputs": [],
   "source": [
    "openai.api_key = 'YOUR API KEY'\n",
    "modelo = 'gpt-3.5-turbo'\n",
    "prompt = f\"¿Cuál es el porcentaje de cada emocion (tristeza, melancolía, alegría, fiesta) de la letra de esta canción?: {cropped_lyrics})\"\n",
    "mensajes = [\n",
    "    {'role':'system', 'content':'Analiza detalladamente y muestra solo los porcentajes en el formato: Tristeza XX%\\n Melancolía XX%\\n Alegría XX%\\n Fiesta XX%'},\n",
    "    {'role':'user', 'content':prompt}\n",
    "]"
   ]
  },
  {
   "cell_type": "markdown",
   "metadata": {},
   "source": [
    "##### Respuesta de la query"
   ]
  },
  {
   "cell_type": "code",
   "execution_count": 7,
   "metadata": {},
   "outputs": [
    {
     "name": "stdout",
     "output_type": "stream",
     "text": [
      "Tristeza 24%\n",
      "Melancolía 38%\n",
      "Alegría 0%\n",
      "Fiesta 0%\n"
     ]
    }
   ],
   "source": [
    "respuesta = openai_client.chat.completions.create(\n",
    "    model = modelo,\n",
    "    messages = mensajes,\n",
    "    temperature = 0.5,\n",
    "    max_tokens = 80\n",
    ")\n",
    "print(respuesta.choices[0].message.content)"
   ]
  },
  {
   "cell_type": "code",
   "execution_count": null,
   "metadata": {},
   "outputs": [],
   "source": []
  }
 ],
 "metadata": {
  "kernelspec": {
   "display_name": "Python 3",
   "language": "python",
   "name": "python3"
  },
  "language_info": {
   "codemirror_mode": {
    "name": "ipython",
    "version": 3
   },
   "file_extension": ".py",
   "mimetype": "text/x-python",
   "name": "python",
   "nbconvert_exporter": "python",
   "pygments_lexer": "ipython3",
   "version": "3.11.8"
  }
 },
 "nbformat": 4,
 "nbformat_minor": 2
}
