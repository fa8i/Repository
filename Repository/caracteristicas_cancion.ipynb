{
 "cells": [
  {
   "cell_type": "code",
   "execution_count": 1,
   "metadata": {},
   "outputs": [
    {
     "name": "stderr",
     "output_type": "stream",
     "text": [
      "C:\\Users\\Fabian\\AppData\\Local\\Temp\\ipykernel_25012\\3368462892.py:2: DeprecationWarning: \n",
      "Pyarrow will become a required dependency of pandas in the next major release of pandas (pandas 3.0),\n",
      "(to allow more performant data types, such as the Arrow string type, and better interoperability with other libraries)\n",
      "but was not found to be installed on your system.\n",
      "If this would cause problems for you,\n",
      "please provide us feedback at https://github.com/pandas-dev/pandas/issues/54466\n",
      "        \n",
      "  import pandas as pd\n"
     ]
    }
   ],
   "source": [
    "import librosa\n",
    "import pandas as pd\n",
    "import os"
   ]
  },
  {
   "cell_type": "code",
   "execution_count": 2,
   "metadata": {},
   "outputs": [],
   "source": [
    "# Extraer las caracteristicas ed cada cancion\n",
    "def extract_musical_features(song_path):\n",
    "    try:\n",
    "        # Cargar cancion con librosa\n",
    "        y, sr = librosa.load(song_path)\n",
    "\n",
    "        # Extraer características musicales\n",
    "        tempo = librosa.beat.tempo(y=y, sr=sr)\n",
    "        tonality = librosa.feature.chroma_stft(y=y, sr=sr)\n",
    "\n",
    "        # Características adicionales\n",
    "        rms = librosa.feature.rms(y=y)\n",
    "        zcr = librosa.feature.zero_crossing_rate(y=y)\n",
    "        mfcc = librosa.feature.mfcc(y=y, sr=sr)\n",
    "        spectral_centroid = librosa.feature.spectral_centroid(y=y, sr=sr)\n",
    "\n",
    "        #Separar el nombre  y el artista\n",
    "        nombre_archivo = os.path.splitext(os.path.basename(song_path))[0]\n",
    "        nombre_cancion, *resto = nombre_archivo.split(\" - \")\n",
    "        nombre_artista = resto[0][:-4] if resto and resto[0].endswith('.mp3') else (resto[0] if resto else None)\n",
    "\n",
    "        # Guardar las características en un diccionario\n",
    "        features = {\n",
    "            'Nombre': nombre_cancion,\n",
    "            'Artista': nombre_artista,\n",
    "            'Tempo': tempo[0],\n",
    "            'Tonalidad_1': tonality[0].mean(),\n",
    "            'Tonalidad_2': tonality[1].mean(),\n",
    "            'Tonalidad_3': tonality[2].mean(),\n",
    "            'RMS_Energy': rms.mean(),\n",
    "            'Zero_Crossing_Rate': zcr.mean(),\n",
    "            'MFCC_1': mfcc[0].mean(),\n",
    "            'MFCC_2': mfcc[1].mean(),\n",
    "            'MFCC_3': mfcc[2].mean(),\n",
    "            'Spectral_Centroid': spectral_centroid.mean()\n",
    "        }\n",
    "\n",
    "        return features\n",
    "    except Exception as e:\n",
    "        print(f\"Error processing song {song_path}: {e}\")\n",
    "        return None\n"
   ]
  },
  {
   "cell_type": "code",
   "execution_count": 3,
   "metadata": {},
   "outputs": [],
   "source": [
    "# Directorio donde se encuentran las canciones\n",
    "songs_directory = r'C:\\Users\\...'\n",
    "total_songs = len([song for song in os.listdir(songs_directory) if song.endswith('.mp3')])\n",
    "songs_analyzed = 0"
   ]
  },
  {
   "cell_type": "code",
   "execution_count": 1,
   "metadata": {},
   "outputs": [
    {
     "ename": "NameError",
     "evalue": "name 'os' is not defined",
     "output_type": "error",
     "traceback": [
      "\u001b[1;31m---------------------------------------------------------------------------\u001b[0m",
      "\u001b[1;31mNameError\u001b[0m                                 Traceback (most recent call last)",
      "Cell \u001b[1;32mIn[1], line 4\u001b[0m\n\u001b[0;32m      2\u001b[0m songs_features \u001b[38;5;241m=\u001b[39m []\n\u001b[0;32m      3\u001b[0m \u001b[38;5;66;03m# Extraer características de cada canción\u001b[39;00m\n\u001b[1;32m----> 4\u001b[0m \u001b[38;5;28;01mfor\u001b[39;00m song \u001b[38;5;129;01min\u001b[39;00m \u001b[43mos\u001b[49m\u001b[38;5;241m.\u001b[39mlistdir(songs_directory):\n\u001b[0;32m      5\u001b[0m     \u001b[38;5;28;01mif\u001b[39;00m song\u001b[38;5;241m.\u001b[39mendswith(\u001b[38;5;124m'\u001b[39m\u001b[38;5;124m.mp3\u001b[39m\u001b[38;5;124m'\u001b[39m):\n\u001b[0;32m      6\u001b[0m         song_path \u001b[38;5;241m=\u001b[39m os\u001b[38;5;241m.\u001b[39mpath\u001b[38;5;241m.\u001b[39mjoin(songs_directory, song)\n",
      "\u001b[1;31mNameError\u001b[0m: name 'os' is not defined"
     ]
    }
   ],
   "source": [
    "# Lista para almacenar las características de todas las canciones\n",
    "songs_features = []\n",
    "# Extraer características de cada canción\n",
    "for song in os.listdir(songs_directory):\n",
    "    if song.endswith('.mp3'):\n",
    "        song_path = os.path.join(songs_directory, song)\n",
    "        features = extract_musical_features(song_path)\n",
    "        if features:\n",
    "            songs_features.append(features)\n",
    "            songs_analyzed += 1\n",
    "            print(f\"Se han analizado {songs_analyzed} canciones ({100 * songs_analyzed / total_songs:.2f}%)\")\n",
    "            # Guardar resultados parciales en un archivo CSV\n",
    "            partial_df = pd.DataFrame(songs_features)\n",
    "            partial_save_path = r'C:\\Users\\...'\n",
    "            partial_df.to_csv(partial_save_path, index=False)\n",
    "print(\"Extracción de características musicales completa.\")"
   ]
  }
 ],
 "metadata": {
  "kernelspec": {
   "display_name": "base",
   "language": "python",
   "name": "python3"
  },
  "language_info": {
   "codemirror_mode": {
    "name": "ipython",
    "version": 3
   },
   "file_extension": ".py",
   "mimetype": "text/x-python",
   "name": "python",
   "nbconvert_exporter": "python",
   "pygments_lexer": "ipython3",
   "version": "3.11.8"
  }
 },
 "nbformat": 4,
 "nbformat_minor": 2
}
