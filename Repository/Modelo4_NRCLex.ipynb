{
 "cells": [
  {
   "cell_type": "code",
   "execution_count": 2,
   "metadata": {},
   "outputs": [
    {
     "name": "stderr",
     "output_type": "stream",
     "text": [
      "C:\\Users\\Fabian\\AppData\\Local\\Temp\\ipykernel_10060\\2420652941.py:4: DeprecationWarning: \n",
      "Pyarrow will become a required dependency of pandas in the next major release of pandas (pandas 3.0),\n",
      "(to allow more performant data types, such as the Arrow string type, and better interoperability with other libraries)\n",
      "but was not found to be installed on your system.\n",
      "If this would cause problems for you,\n",
      "please provide us feedback at https://github.com/pandas-dev/pandas/issues/54466\n",
      "        \n",
      "  import pandas as pd\n"
     ]
    }
   ],
   "source": [
    "from nrclex import NRCLex\n",
    "from googletrans import Translator\n",
    "import numpy as np\n",
    "import pandas as pd"
   ]
  },
  {
   "cell_type": "code",
   "execution_count": 13,
   "metadata": {},
   "outputs": [],
   "source": [
    "def eliminar_lineas_repetidas(texto):\n",
    "    lineas = texto.split('\\n')\n",
    "    lineas_sin_repetir = []\n",
    "    lineas_vistas = {}\n",
    "\n",
    "    for linea in lineas:\n",
    "        if linea not in lineas_vistas:\n",
    "            lineas_sin_repetir.append(linea)\n",
    "            lineas_vistas[linea] = True\n",
    "\n",
    "    return '\\n'.join(lineas_sin_repetir)"
   ]
  },
  {
   "cell_type": "code",
   "execution_count": 58,
   "metadata": {},
   "outputs": [],
   "source": [
    "with open(r'C:\\Users\\...\\EXAMPLE.txt', 'r', encoding='utf-8') as letra_file:\n",
    "    letra_text = letra_file.read()\n"
   ]
  },
  {
   "cell_type": "code",
   "execution_count": 72,
   "metadata": {},
   "outputs": [
    {
     "name": "stdout",
     "output_type": "stream",
     "text": [
      "Sometimes I can't stand it\n",
      "But you are there to give me the reason\n",
      "It may seem a lie, but not\n",
      "Because I will always be there\n",
      "Crying in a sad corner of love you\n",
      "With too much alcohol and little luck\n",
      "With the eyes missing\n",
      "As always, that I will always be\n",
      "Crying in a sad corner of love you\n",
      "With too much alcohol and little luck\n",
      "With the eyes missing\n",
      "As usual\n",
      "You were my favorite problem\n",
      "The only mistake I always repeat\n",
      "The only one I love you, I've told you\n",
      "And the fucking teeth pain that never took me\n",
      "Let's make something beautiful\n",
      "And let's cry if the soul cries out\n",
      "Remove your fire if I'm died and cold\n",
      "Because everything is in heaven, it has never been mine\n",
      "I have everything but I miss you\n",
      "I no longer find calm\n",
      "My alter Ego, Paranoid, writes to you letters\n",
      "To never deliver them\n",
      "September 16\n",
      "Rushing my head, you are always present\n",
      "I didn't know how to call you, you were more than luck\n",
      "I swear I would fight day after day, so you are always with me\n",
      "Sometimes I can't stand it\n",
      "But you are there to give me the reason\n",
      "It may seem a lie, but not\n",
      "Sometimes I can't stand it\n",
      "But you are there to give me the reason\n",
      "It may seem a lie, but not\n",
      "Because I will always be there\n",
      "Crying in a sad corner of love you\n",
      "With too much alcohol and little luck\n",
      "With the eyes missing\n"
     ]
    }
   ],
   "source": [
    "translator = Translator()\n",
    "texto_ingles = translator.translate(letra_text, src='es', dest='en').text\n",
    "print(texto_ingles)"
   ]
  },
  {
   "cell_type": "code",
   "execution_count": 68,
   "metadata": {},
   "outputs": [
    {
     "name": "stdout",
     "output_type": "stream",
     "text": [
      "Sometimes I can't stand it\n",
      "But you are there to give me the reason\n",
      "It may seem a lie, but not\n",
      "Because I will always be there\n",
      "Crying in a sad corner of love you\n",
      "With too much alcohol and little luck\n",
      "With the eyes missing\n",
      "As always, that I will always be\n",
      "As usual\n",
      "You were my favorite problem\n",
      "The only mistake I always repeat\n",
      "The only one I love you, I've told you\n",
      "And the fucking teeth pain that never took me\n",
      "Let's make something beautiful\n",
      "And let's cry if the soul cries out\n",
      "Remove your fire if I'm died and cold\n",
      "Because everything is in heaven, it has never been mine\n",
      "I have everything but I miss you\n",
      "I no longer find calm\n",
      "My alter Ego, Paranoid, writes to you letters\n",
      "To never deliver them\n",
      "September 16\n",
      "Rushing my head, you are always present\n",
      "I didn't know how to call you, you were more than luck\n",
      "I swear I would fight day after day, so you are always with me\n",
      "That I will always be\n",
      "Writing a thousand forgives in a fucking notebook\n",
      "I'm loss on my planet\n",
      "I feel puzzle, I did not fit without you I am incomplete\n",
      "Because I'm crazy and there is no recipe\n",
      "If you didn't go cold, I want you to think about me\n",
      "I fell in a vacuum, I did not know how to get out\n",
      "You were my coat that I needed here\n",
      "Like anyone, I always bet on you\n",
      "There is no point, there is a coma, you set a point and end\n",
      "What a drink, eat and cry in my recital\n",
      "Chaos in my mind, I prefer it to be bad\n",
      "By bad luck, I was fatal\n",
      "I heard a thousand noises I tried to follow\n",
      "It was the emptiness that seized me\n",
      "A thousand sad butterflies trying to flee\n",
      "No more, they stayed for you\n",
      "Humans do not understand me\n",
      "Not that we always cry\n",
      "I apologize for loving you\n",
      "My head has insisted on reminding you\n"
     ]
    }
   ],
   "source": [
    "texto_sin_repetir = eliminar_lineas_repetidas(texto_ingles)\n",
    "print(texto_sin_repetir)"
   ]
  },
  {
   "cell_type": "code",
   "execution_count": 73,
   "metadata": {},
   "outputs": [],
   "source": [
    "\n",
    "emotion = NRCLex(texto_ingles)\n"
   ]
  },
  {
   "cell_type": "code",
   "execution_count": 74,
   "metadata": {},
   "outputs": [
    {
     "name": "stdout",
     "output_type": "stream",
     "text": [
      "\n",
      " [('positive', 0.21794871794871795)]\n"
     ]
    }
   ],
   "source": [
    "print('\\n', emotion.top_emotions)"
   ]
  }
 ],
 "metadata": {
  "kernelspec": {
   "display_name": "Python 3",
   "language": "python",
   "name": "python3"
  },
  "language_info": {
   "codemirror_mode": {
    "name": "ipython",
    "version": 3
   },
   "file_extension": ".py",
   "mimetype": "text/x-python",
   "name": "python",
   "nbconvert_exporter": "python",
   "pygments_lexer": "ipython3",
   "version": "3.11.8"
  }
 },
 "nbformat": 4,
 "nbformat_minor": 2
}
