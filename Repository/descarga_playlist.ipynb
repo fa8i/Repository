{
 "cells": [
  {
   "cell_type": "code",
   "execution_count": 8,
   "metadata": {},
   "outputs": [],
   "source": [
    "import spotipy\n",
    "from spotipy.oauth2 import SpotifyClientCredentials\n",
    "import yt_dlp\n",
    "import re\n",
    "import os"
   ]
  },
  {
   "cell_type": "code",
   "execution_count": 1,
   "metadata": {},
   "outputs": [],
   "source": [
    "# URL de la lista\n",
    "url_playlist = \"https://open.spotify.com/playlist/37i9dQZF1DX9235ICuUcIM\"\n",
    "# https://open.spotify.com/playlist/6IuU86UaJm6fxeN6PeMPCT (sad playlist)"
   ]
  },
  {
   "cell_type": "code",
   "execution_count": 10,
   "metadata": {},
   "outputs": [],
   "source": [
    "# Configuración de credenciales de cliente de Spotify\n",
    "client_id = 'YOUR CLIENT ID'\n",
    "client_secret = 'YOUR CLIENT PASSWORD'\n",
    "client_credentials_manager = SpotifyClientCredentials(client_id=client_id, client_secret=client_secret)\n",
    "sp = spotipy.Spotify(client_credentials_manager=client_credentials_manager)\n"
   ]
  },
  {
   "cell_type": "code",
   "execution_count": 11,
   "metadata": {},
   "outputs": [],
   "source": [
    "# Obtener tracks de una playlist de Spotify\n",
    "def obtener_tracks_playlist(playlist_id):\n",
    "    tracks = []\n",
    "    offset = 0\n",
    "    # Iteraremos sobre cada una de las paginas (items) de la lista de reproducción\n",
    "    while True:\n",
    "        results = sp.playlist_tracks(playlist_id, offset=offset)\n",
    "        items = results.get('items', [])\n",
    "        if not items:\n",
    "            break\n",
    "        for item in items:\n",
    "            track = item.get('track')\n",
    "            if track:\n",
    "                tracks.append((track.get('name', ''), track.get('artists', [{}])[0].get('name', '')))\n",
    "        offset += len(items)\n",
    "    return tracks\n"
   ]
  },
  {
   "cell_type": "code",
   "execution_count": 15,
   "metadata": {},
   "outputs": [],
   "source": [
    "# descargar las listas usanto convertidor YT a mp3\n",
    "def download_audio(link, output_folder, song_name, artist):\n",
    "    # Usamos el nombre de la canción y el artista para formar el nombre del archivo\n",
    "    file_name = f\"{song_name} - {artist}\"\n",
    "    ydl_opts = {\n",
    "        'format': 'bestaudio/best',\n",
    "        'postprocessors': [{\n",
    "            'key': 'FFmpegExtractAudio',\n",
    "            'preferredcodec': 'mp3',\n",
    "            'preferredquality': '192',\n",
    "        }],\n",
    "        'outtmpl': os.path.join(output_folder, file_name),\n",
    "    }\n",
    "\n",
    "    with yt_dlp.YoutubeDL(ydl_opts) as ydl:\n",
    "        info_dict = ydl.extract_info(link, download=True)\n",
    "        video_title = info_dict['title']\n",
    "        print(f\"Descargada: {file_name}\")"
   ]
  },
  {
   "cell_type": "code",
   "execution_count": 2,
   "metadata": {},
   "outputs": [
    {
     "ename": "NameError",
     "evalue": "name 're' is not defined",
     "output_type": "error",
     "traceback": [
      "\u001b[1;31m---------------------------------------------------------------------------\u001b[0m",
      "\u001b[1;31mNameError\u001b[0m                                 Traceback (most recent call last)",
      "Cell \u001b[1;32mIn[2], line 1\u001b[0m\n\u001b[1;32m----> 1\u001b[0m playlist_id \u001b[38;5;241m=\u001b[39m \u001b[43mre\u001b[49m\u001b[38;5;241m.\u001b[39msearch(\u001b[38;5;124mr\u001b[39m\u001b[38;5;124m'\u001b[39m\u001b[38;5;124mplaylist\u001b[39m\u001b[38;5;124m\\\u001b[39m\u001b[38;5;124m/(\u001b[39m\u001b[38;5;124m\\\u001b[39m\u001b[38;5;124mw\u001b[39m\u001b[38;5;132;01m{22}\u001b[39;00m\u001b[38;5;124m)\u001b[39m\u001b[38;5;124m'\u001b[39m, url_playlist)\u001b[38;5;241m.\u001b[39mgroup(\u001b[38;5;241m1\u001b[39m)\n\u001b[0;32m      2\u001b[0m output_folder \u001b[38;5;241m=\u001b[39m \u001b[38;5;124mr\u001b[39m\u001b[38;5;124m'\u001b[39m\u001b[38;5;124mC:\u001b[39m\u001b[38;5;124m\\\u001b[39m\u001b[38;5;124mUsers\u001b[39m\u001b[38;5;124m\\\u001b[39m\u001b[38;5;124mFabian\u001b[39m\u001b[38;5;124m\\\u001b[39m\u001b[38;5;124mDesktop\u001b[39m\u001b[38;5;124m\\\u001b[39m\u001b[38;5;124mPROYECTO\u001b[39m\u001b[38;5;124m\\\u001b[39m\u001b[38;5;124mcanciones\u001b[39m\u001b[38;5;124m\\\u001b[39m\u001b[38;5;124msad\u001b[39m\u001b[38;5;124m'\u001b[39m\n\u001b[0;32m      3\u001b[0m tracks \u001b[38;5;241m=\u001b[39m obtener_tracks_playlist(playlist_id)\n",
      "\u001b[1;31mNameError\u001b[0m: name 're' is not defined"
     ]
    }
   ],
   "source": [
    "playlist_id = re.search(r'playlist\\/(\\w{22})', url_playlist).group(1)\n",
    "output_folder = r'C:\\Users\\...'\n",
    "tracks = obtener_tracks_playlist(playlist_id)\n",
    "total_tracks = len(tracks)\n",
    "tracks_downloaded = 0\n",
    "\n",
    "for track in tracks:\n",
    "    song_name, artist = track\n",
    "    search_query = f\"{song_name} {artist} audio\"\n",
    "    link = f\"ytsearch1:{search_query}\"\n",
    "    download_audio(link, output_folder, song_name, artist)\n",
    "    tracks_downloaded += 1\n",
    "    print(print(f\"Se han descargado {tracks_downloaded} canciones ({100 * tracks_downloaded / total_tracks:.2f}%)\"))"
   ]
  }
 ],
 "metadata": {
  "kernelspec": {
   "display_name": "Python 3",
   "language": "python",
   "name": "python3"
  },
  "language_info": {
   "codemirror_mode": {
    "name": "ipython",
    "version": 3
   },
   "file_extension": ".py",
   "mimetype": "text/x-python",
   "name": "python",
   "nbconvert_exporter": "python",
   "pygments_lexer": "ipython3",
   "version": "3.11.8"
  }
 },
 "nbformat": 4,
 "nbformat_minor": 2
}
