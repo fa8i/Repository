{
 "cells": [
  {
   "cell_type": "markdown",
   "metadata": {},
   "source": [
    "### MODELO 4: GPT"
   ]
  },
  {
   "cell_type": "markdown",
   "metadata": {},
   "source": [
    "##### Importacion de librerias"
   ]
  },
  {
   "cell_type": "code",
   "execution_count": 34,
   "metadata": {},
   "outputs": [],
   "source": [
    "import openai\n",
    "import pandas as pd\n",
    "import os"
   ]
  },
  {
   "cell_type": "markdown",
   "metadata": {},
   "source": [
    "##### API_key"
   ]
  },
  {
   "cell_type": "code",
   "execution_count": 35,
   "metadata": {},
   "outputs": [],
   "source": [
    "API_KEY = 'YOUR_API_KEY'"
   ]
  },
  {
   "cell_type": "code",
   "execution_count": 36,
   "metadata": {},
   "outputs": [],
   "source": [
    "openai_client = openai.OpenAI(api_key=API_KEY)"
   ]
  },
  {
   "cell_type": "markdown",
   "metadata": {},
   "source": [
    "##### Extraccion de letra y eliminacion defrases repetidas"
   ]
  },
  {
   "cell_type": "code",
   "execution_count": 37,
   "metadata": {},
   "outputs": [],
   "source": [
    "def eliminar_lineas_repetidas(texto):\n",
    "    lineas = texto.split('\\n')\n",
    "    lineas_sin_repetir = []\n",
    "    lineas_vistas = set()\n",
    "    for linea in lineas:\n",
    "        if linea not in lineas_vistas:\n",
    "            lineas_sin_repetir.append(linea)\n",
    "            lineas_vistas.add(linea)\n",
    "    return '\\n'.join(lineas_sin_repetir)"
   ]
  },
  {
   "cell_type": "code",
   "execution_count": 38,
   "metadata": {},
   "outputs": [],
   "source": [
    "csv_path = r'your\\csv\\path'\n",
    "df = pd.read_csv(csv_path, encoding='utf-8')\n",
    "artista = 'ARTIST'\n",
    "titulo = 'TITLE'\n",
    "letra_cancion = df.loc[(df['Artista'] == artista) & (df['Canción'] == titulo), 'Letra'].values"
   ]
  },
  {
   "cell_type": "code",
   "execution_count": 39,
   "metadata": {},
   "outputs": [
    {
     "name": "stdout",
     "output_type": "stream",
     "text": [
      "El Gonzalito Genio The Producer Me dice que no, que no quiere verme Que ya se cansó de lo mismo de siempre Que no me soporta, pero que me quiere Y que quizá algún día me volverá a ver Y yo regalando la luna a cualquiera Que me haga recordar un poco de ti Pero solo tú eres mi luna, mi reina, mi cielo Y sin ti yo ya no sé vivir Te invento en mis sueños, siento que te tengo Y que tú siempre has sido solita de mí Y le pido a Dios to's los días de rodillas Que algún día vuelva' y te quedes aquí Yo te estoy cantando mientras que regalo Mi amor a cualquiera porque eso es así Tú y yo brillamos en el cielo como estrellas Tú pa' mí, yo pa' ti Me encanta cuando cantas mi canción Me vuelves loco con esa manera de bailármelo  Un día me dice \"sí\" y otro me dice \"no\" Me da igual que te vayas, tú estás en mi corazón  Y me dice que no que no quiere verme Que ya te has cansado de lo mismo de siempre Pero si me voy me pides que vuelva Y yo no te aseguro que vaya a poder Sé feliz y vuela libre que yo también lo haré Yo sé que algún día nos volveremos a ver Y yo quiero que sepas que mientras yo viva Yo voy a llevarte y en mi corazón Que no sabe' na', que a eso le falta vida No van a entender lo de nosotros dos Que estamos arriba, que esto es otra liga Digan lo que digan somos lo mejor Tú y yo brillamos en el cielo como estrellas, corazón Aun así me dice \"no\", pero en el fondo es que sí Si hasta te he escrito una canción, dedicada solo pa' ti Aun así me dice \"no\", pero en el fondo es que sí Si hasta te he escrito una canción, dedicada solo pa' ti Me dice que no que no quiere verme Que ya se cansó de lo mismo de siempre Que no me soporta pero que me quiere Y que quizá algún día me volverá a ver Y yo regalando la luna a cualquiera Que me haga recordar un poco de ti Pero solo tú eres mi luna, mi reina Mi cielo y sin ti yo ya no sé vivir Y me dice que no que no quiere verme Que ya te has cansado de lo mismo de siempre Pero si me voy, me pides que vuelva Y yo no te aseguro que vaya a poder Sé feliz y vuela libre que yo también lo haré Yo sé que algún día nos volveremos a ver Y yo quiero que sepas que mientras yo viva Yo voy a llevarte y en mi corazón Que no sabe' na', que a eso le falta vida Ya no van a entender lo de nosotros dos Que estamos arriba, que esto es otra liga Digan lo que digan somos lo mejor Tú y yo brillamos en el cielo como estrellas, corazón\n"
     ]
    }
   ],
   "source": [
    "# Verifica si se encontró la letra\n",
    "if len(letra_cancion) > 0:\n",
    "    lyrics_text = letra_cancion[0]  # Aquí convertimos a cadena de texto\n",
    "    print(lyrics_text)\n",
    "else:\n",
    "    lyrics_text = None\n",
    "    print(\"No se encontró la letra de la canción especificada.\")"
   ]
  },
  {
   "cell_type": "code",
   "execution_count": 40,
   "metadata": {},
   "outputs": [
    {
     "name": "stdout",
     "output_type": "stream",
     "text": [
      "El Gonzalito Genio The Producer Me dice que no, que no quiere verme Que ya se cansó de lo mismo de siempre Que no me soporta, pero que me quiere Y que quizá algún día me volverá a ver Y yo regalando la luna a cualquiera Que me haga recordar un poco de ti Pero solo tú eres mi luna, mi reina, mi cielo Y sin ti yo ya no sé vivir Te invento en mis sueños, siento que te tengo Y que tú siempre has sido solita de mí Y le pido a Dios to's los días de rodillas Que algún día vuelva' y te quedes aquí Yo te estoy cantando mientras que regalo Mi amor a cualquiera porque eso es así Tú y yo brillamos en el cielo como estrellas Tú pa' mí, yo pa' ti Me encanta cuando cantas mi canción Me vuelves loco con esa manera de bailármelo  Un día me dice \"sí\" y otro me dice \"no\" Me da igual que te vayas, tú estás en mi corazón  Y me dice que no que no quiere verme Que ya te has cansado de lo mismo de siempre Pero si me voy me pides que vuelva Y yo no te aseguro que vaya a poder Sé feliz y vuela libre que yo también lo haré Yo sé que algún día nos volveremos a ver Y yo quiero que sepas que mientras yo viva Yo voy a llevarte y en mi corazón Que no sabe' na', que a eso le falta vida No van a entender lo de nosotros dos Que estamos arriba, que esto es otra liga Digan lo que digan somos lo mejor Tú y yo brillamos en el cielo como estrellas, corazón Aun así me dice \"no\", pero en el fondo es que sí Si hasta te he escrito una canción, dedicada solo pa' ti Aun así me dice \"no\", pero en el fondo es que sí Si hasta te he escrito una canción, dedicada solo pa' ti Me dice que no que no quiere verme Que ya se cansó de lo mismo de siempre Que no me soporta pero que me quiere Y que quizá algún día me volverá a ver Y yo regalando la luna a cualquiera Que me haga recordar un poco de ti Pero solo tú eres mi luna, mi reina Mi cielo y sin ti yo ya no sé vivir Y me dice que no que no quiere verme Que ya te has cansado de lo mismo de siempre Pero si me voy, me pides que vuelva Y yo no te aseguro que vaya a poder Sé feliz y vuela libre que yo también lo haré Yo sé que algún día nos volveremos a ver Y yo quiero que sepas que mientras yo viva Yo voy a llevarte y en mi corazón Que no sabe' na', que a eso le falta vida Ya no van a entender lo de nosotros dos Que estamos arriba, que esto es otra liga Digan lo que digan somos lo mejor Tú y yo brillamos en el cielo como estrellas, corazón\n"
     ]
    }
   ],
   "source": [
    "cropped_lyrics = eliminar_lineas_repetidas(lyrics_text)\n",
    "print(cropped_lyrics)"
   ]
  },
  {
   "cell_type": "markdown",
   "metadata": {},
   "source": [
    "##### Herramientas de la query"
   ]
  },
  {
   "cell_type": "code",
   "execution_count": 41,
   "metadata": {},
   "outputs": [],
   "source": [
    "openai.api_key = API_KEY\n",
    "modelo = 'gpt-3.5-turbo'    \n",
    "prompt = f\"¿Cuál es el porcentaje de cada emocion (entre tristeza y alegría) de la letra de esta canción?: {cropped_lyrics})\"\n",
    "mensajes = [\n",
    "    {'role':'system', 'content':'Analiza detalladamente y muestra solo los porcentajes en el formato: Tristeza XX%\\n Alegría XX%. Ambos deben sumar 100%'},\n",
    "    {'role':'user', 'content':prompt}\n",
    "]"
   ]
  },
  {
   "cell_type": "markdown",
   "metadata": {},
   "source": [
    "##### Respuesta de la query"
   ]
  },
  {
   "cell_type": "code",
   "execution_count": 53,
   "metadata": {},
   "outputs": [
    {
     "name": "stdout",
     "output_type": "stream",
     "text": [
      "Tristeza 50%\n",
      "Alegría 50%\n"
     ]
    }
   ],
   "source": [
    "respuesta = openai_client.chat.completions.create(\n",
    "    model = modelo,\n",
    "    messages = mensajes,\n",
    "    temperature = 0.8,\n",
    "    max_tokens = 50\n",
    ")\n",
    "print(respuesta.choices[0].message.content)"
   ]
  }
 ],
 "metadata": {
  "kernelspec": {
   "display_name": "Python 3",
   "language": "python",
   "name": "python3"
  },
  "language_info": {
   "codemirror_mode": {
    "name": "ipython",
    "version": 3
   },
   "file_extension": ".py",
   "mimetype": "text/x-python",
   "name": "python",
   "nbconvert_exporter": "python",
   "pygments_lexer": "ipython3",
   "version": "3.11.9"
  }
 },
 "nbformat": 4,
 "nbformat_minor": 2
}
